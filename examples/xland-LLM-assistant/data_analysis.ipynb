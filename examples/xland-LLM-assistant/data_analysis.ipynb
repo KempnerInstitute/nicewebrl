{
 "cells": [
  {
   "cell_type": "code",
   "execution_count": 1,
   "id": "abc7bc83-4b97-4dd5-998a-41a8136e75bd",
   "metadata": {},
   "outputs": [],
   "source": [
    "%load_ext autoreload\n",
    "%autoreload 2"
   ]
  },
  {
   "cell_type": "code",
   "execution_count": 2,
   "id": "eaa74992-ebb4-4522-8f63-ef731178face",
   "metadata": {},
   "outputs": [],
   "source": [
    "import os\n",
    "import json\n",
    "import glob\n",
    "import config\n",
    "import re\n",
    "import nicewebrl"
   ]
  },
  {
   "cell_type": "code",
   "execution_count": 3,
   "id": "952da8fb-5414-4d47-b6fb-550c4aaf4351",
   "metadata": {},
   "outputs": [],
   "source": [
    "import glob\n",
    "\n",
    "pattern = '2547624190'\n",
    "metadata_files = sorted(glob.glob(f\"{config.DATA_DIR}/*{pattern}*.json\"))\n",
    "data_files = sorted(glob.glob(f\"{config.DATA_DIR}/*{pattern}.msgpack\"))\n",
    "# data_files\n",
    "assert len(data_files)==len(metadata_files), \"either data or metadata is missing for a user\""
   ]
  },
  {
   "cell_type": "code",
   "execution_count": 4,
   "id": "fffaa10e-f293-40e1-8ab4-4500f0d49353",
   "metadata": {},
   "outputs": [
    {
     "name": "stdout",
     "output_type": "stream",
     "text": [
      "{'user_id': 2547624190, 'model_chosen': 'claude'}\n"
     ]
    }
   ],
   "source": [
    "def get_user_id(filepath):\n",
    "    pattern = r'\\d+'\n",
    "    match = re.search(pattern, file_path)\n",
    "    if match:\n",
    "        return match.group()\n",
    "\n",
    "data = []\n",
    "for metadatafile, data_file in zip(metadata_files, data_files):\n",
    "    # extract relevant metadata\n",
    "    with open(metadatafile, 'r') as f:\n",
    "        metadata = json.load(f)\n",
    "    datum = dict(\n",
    "        user_id = metadata['user_storage']['seed'],\n",
    "        model_chosen = metadata['user_storage']['selected_model'],\n",
    "    )\n",
    "    print(datum)\n",
    "    \n",
    "    data = nicewebrl.load_data(data_file)\n",
    "    # feed form data from user\n",
    "\n",
    "    # get episode information\n",
    "    break"
   ]
  },
  {
   "cell_type": "code",
   "execution_count": 14,
   "id": "b38e716b-7372-4741-919f-055c2199db32",
   "metadata": {},
   "outputs": [
    {
     "data": {
      "text/plain": [
       "3"
      ]
     },
     "execution_count": 14,
     "metadata": {},
     "output_type": "execute_result"
    }
   ],
   "source": [
    "# len(data)\n",
    "data[-1]['stage_idx']\n",
    "data[-2]['stage_idx']"
   ]
  },
  {
   "cell_type": "code",
   "execution_count": 12,
   "id": "fa70a83d-69c1-4903-8fa5-46949cfdfe50",
   "metadata": {},
   "outputs": [
    {
     "data": {
      "text/plain": [
       "dict_keys(['How helpful was the AI?', 'How human-like was the AI?'])"
      ]
     },
     "execution_count": 12,
     "metadata": {},
     "output_type": "execute_result"
    }
   ],
   "source": [
    "data[-1]['data'].keys()"
   ]
  },
  {
   "cell_type": "code",
   "execution_count": 11,
   "id": "acb05028-a49d-48e2-b008-444365d9e4ab",
   "metadata": {},
   "outputs": [
    {
     "data": {
      "text/plain": [
       "'Feedback'"
      ]
     },
     "execution_count": 11,
     "metadata": {},
     "output_type": "execute_result"
    }
   ],
   "source": [
    "data[-1]['name']"
   ]
  },
  {
   "cell_type": "code",
   "execution_count": null,
   "id": "5a2bdfb9-c628-4f58-8314-c8f0eca949a9",
   "metadata": {},
   "outputs": [],
   "source": []
  }
 ],
 "metadata": {
  "kernelspec": {
   "display_name": "Python 3 (ipykernel)",
   "language": "python",
   "name": "python3"
  },
  "language_info": {
   "codemirror_mode": {
    "name": "ipython",
    "version": 3
   },
   "file_extension": ".py",
   "mimetype": "text/x-python",
   "name": "python",
   "nbconvert_exporter": "python",
   "pygments_lexer": "ipython3",
   "version": "3.10.16"
  }
 },
 "nbformat": 4,
 "nbformat_minor": 5
}
