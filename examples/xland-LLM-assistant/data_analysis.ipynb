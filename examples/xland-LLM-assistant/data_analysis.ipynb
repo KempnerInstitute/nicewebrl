{
 "cells": [
  {
   "cell_type": "code",
   "execution_count": 1,
   "id": "abc7bc83-4b97-4dd5-998a-41a8136e75bd",
   "metadata": {},
   "outputs": [],
   "source": [
    "%load_ext autoreload\n",
    "%autoreload 2"
   ]
  },
  {
   "cell_type": "code",
   "execution_count": 32,
   "id": "eaa74992-ebb4-4522-8f63-ef731178face",
   "metadata": {},
   "outputs": [],
   "source": [
    "import os\n",
    "import json\n",
    "import glob\n",
    "import config\n",
    "import re\n",
    "import jax.numpy as jnp\n",
    "import nicewebrl\n",
    "from typing import List\n",
    "from collections import defaultdict\n",
    "from flax import serialization\n",
    "import polars as pl\n",
    "\n",
    "import jax\n",
    "from experiment_structure import jax_web_env, env_params"
   ]
  },
  {
   "cell_type": "code",
   "execution_count": 3,
   "id": "952da8fb-5414-4d47-b6fb-550c4aaf4351",
   "metadata": {},
   "outputs": [],
   "source": [
    "import glob\n",
    "\n",
    "pattern = '2547624190'\n",
    "metadata_files = sorted(glob.glob(f\"{config.DATA_DIR}/*{pattern}*.json\"))\n",
    "data_files = sorted(glob.glob(f\"{config.DATA_DIR}/*{pattern}.msgpack\"))\n",
    "# data_files\n",
    "assert len(data_files)==len(metadata_files), \"either data or metadata is missing for a user\""
   ]
  },
  {
   "cell_type": "code",
   "execution_count": 17,
   "id": "8f15778c-cf28-4939-be73-f4d6185dca5d",
   "metadata": {},
   "outputs": [],
   "source": [
    "rng = jax.random.PRNGKey(0)\n",
    "example_timestep = jax_web_env.reset(rng, env_params)"
   ]
  },
  {
   "cell_type": "code",
   "execution_count": 40,
   "id": "fffaa10e-f293-40e1-8ab4-4500f0d49353",
   "metadata": {},
   "outputs": [
    {
     "data": {
      "text/html": [
       "<div><style>\n",
       ".dataframe > thead > tr,\n",
       ".dataframe > tbody > tr {\n",
       "  text-align: right;\n",
       "  white-space: pre-wrap;\n",
       "}\n",
       "</style>\n",
       "<small>shape: (4, 8)</small><table border=\"1\" class=\"dataframe\"><thead><tr><th>user_id</th><th>model_chosen</th><th>stage_type</th><th>How helpful was the AI?</th><th>How human-like was the AI?</th><th>total_reward</th><th>success</th><th>reaction_times</th></tr><tr><td>i64</td><td>str</td><td>str</td><td>i64</td><td>i64</td><td>f64</td><td>f64</td><td>str</td></tr></thead><tbody><tr><td>2547624190</td><td>&quot;claude&quot;</td><td>&quot;feedback&quot;</td><td>2</td><td>4</td><td>null</td><td>null</td><td>null</td></tr><tr><td>2547624190</td><td>&quot;claude&quot;</td><td>&quot;interaction&quot;</td><td>null</td><td>null</td><td>0.0</td><td>0.0</td><td>&quot;[820. 499.&nbsp;&nbsp;86.&nbsp;&nbsp;84.&nbsp;&nbsp;82.&nbsp;&nbsp;83.…</td></tr><tr><td>2547624190</td><td>&quot;claude&quot;</td><td>&quot;interaction&quot;</td><td>null</td><td>null</td><td>0.0</td><td>0.0</td><td>&quot;[59. 81. 86. 84. 80. 86. 79. 8…</td></tr><tr><td>2547624190</td><td>&quot;claude&quot;</td><td>&quot;interaction&quot;</td><td>null</td><td>null</td><td>0.0</td><td>0.0</td><td>&quot;[42. 86. 85. 81. 85. 86. 89. 7…</td></tr></tbody></table></div>"
      ],
      "text/plain": [
       "shape: (4, 8)\n",
       "┌────────────┬────────────┬────────────┬────────────┬────────────┬───────────┬─────────┬───────────┐\n",
       "│ user_id    ┆ model_chos ┆ stage_type ┆ How        ┆ How        ┆ total_rew ┆ success ┆ reaction_ │\n",
       "│ ---        ┆ en         ┆ ---        ┆ helpful    ┆ human-like ┆ ard       ┆ ---     ┆ times     │\n",
       "│ i64        ┆ ---        ┆ str        ┆ was the    ┆ was the    ┆ ---       ┆ f64     ┆ ---       │\n",
       "│            ┆ str        ┆            ┆ AI?        ┆ AI?        ┆ f64       ┆         ┆ str       │\n",
       "│            ┆            ┆            ┆ ---        ┆ ---        ┆           ┆         ┆           │\n",
       "│            ┆            ┆            ┆ i64        ┆ i64        ┆           ┆         ┆           │\n",
       "╞════════════╪════════════╪════════════╪════════════╪════════════╪═══════════╪═════════╪═══════════╡\n",
       "│ 2547624190 ┆ claude     ┆ feedback   ┆ 2          ┆ 4          ┆ null      ┆ null    ┆ null      │\n",
       "│ 2547624190 ┆ claude     ┆ interactio ┆ null       ┆ null       ┆ 0.0       ┆ 0.0     ┆ [820.     │\n",
       "│            ┆            ┆ n          ┆            ┆            ┆           ┆         ┆ 499.  86. │\n",
       "│            ┆            ┆            ┆            ┆            ┆           ┆         ┆ 84.  82.  │\n",
       "│            ┆            ┆            ┆            ┆            ┆           ┆         ┆ 83.…      │\n",
       "│ 2547624190 ┆ claude     ┆ interactio ┆ null       ┆ null       ┆ 0.0       ┆ 0.0     ┆ [59. 81.  │\n",
       "│            ┆            ┆ n          ┆            ┆            ┆           ┆         ┆ 86. 84.   │\n",
       "│            ┆            ┆            ┆            ┆            ┆           ┆         ┆ 80. 86.   │\n",
       "│            ┆            ┆            ┆            ┆            ┆           ┆         ┆ 79. 8…    │\n",
       "│ 2547624190 ┆ claude     ┆ interactio ┆ null       ┆ null       ┆ 0.0       ┆ 0.0     ┆ [42. 86.  │\n",
       "│            ┆            ┆ n          ┆            ┆            ┆           ┆         ┆ 85. 81.   │\n",
       "│            ┆            ┆            ┆            ┆            ┆           ┆         ┆ 85. 86.   │\n",
       "│            ┆            ┆            ┆            ┆            ┆           ┆         ┆ 89. 7…    │\n",
       "└────────────┴────────────┴────────────┴────────────┴────────────┴───────────┴─────────┴───────────┘"
      ]
     },
     "execution_count": 40,
     "metadata": {},
     "output_type": "execute_result"
    }
   ],
   "source": [
    "def get_user_id(filepath):\n",
    "    pattern = r'\\d+'\n",
    "    match = re.search(pattern, file_path)\n",
    "    if match:\n",
    "        return match.group()\n",
    "\n",
    "\n",
    "def seperate_data_into_episodes(data: List[dict]):\n",
    "  \"\"\"This function will group episodes by the values in the datum dictionaries\n",
    "  \"\"\"\n",
    "  key_to_episodes_unprocessed = defaultdict(list)\n",
    "  episode_idx = -1\n",
    "  keys = set()\n",
    "  all_episode_information = dict()\n",
    "  # first group all of the data based on which (stage, block) its in\n",
    "  for datum in data:\n",
    "    # This function will be used to group datapoints of an individual episode\n",
    "    stage_episode_idx=datum[\"metadata\"][\"nepisodes\"]\n",
    "    stage_idx = datum['stage_idx']\n",
    "    key = f\"stage={stage_idx}_episode={stage_episode_idx}\"\n",
    "    if key not in keys:\n",
    "      episode_idx += 1\n",
    "      keys.add(key)\n",
    "    info = dict(\n",
    "        episode_idx=episode_idx,\n",
    "        stage_episode_idx=stage_episode_idx,\n",
    "        stage_idx=stage_idx)\n",
    "\n",
    "    key_to_episodes_unprocessed[key].append(datum)\n",
    "    all_episode_information[key] = info\n",
    "  return key_to_episodes_unprocessed, all_episode_information\n",
    "\n",
    "def deserialize_timestep(datum):\n",
    "  timestep = datum[\"data\"][\"timestep\"]\n",
    "  timestep = serialization.from_bytes(example_timestep, timestep)\n",
    "\n",
    "  return timestep\n",
    "\n",
    "df_data = []\n",
    "for metadatafile, data_file in zip(metadata_files, data_files):\n",
    "\n",
    "    # extract relevant metadata\n",
    "    with open(metadatafile, 'r') as f:\n",
    "        metadata = json.load(f)\n",
    "    user_data = dict(\n",
    "        user_id = metadata['user_storage']['seed'],\n",
    "        model_chosen = metadata['user_storage']['selected_model'],\n",
    "    )\n",
    "    \n",
    "    data = nicewebrl.load_data(data_file)\n",
    "\n",
    "    \n",
    "    # feed form data from user\n",
    "    feedback_data = data[-1]['data']\n",
    "    df_data.append(dict(**user_data, stage_type='feedback', **feedback_data))\n",
    "    \n",
    "\n",
    "    # get episode information\n",
    "    key_to_episodes_unprocessed, episode_information = seperate_data_into_episodes(data[:-1])\n",
    "    episode_data = [None] * len(key_to_episodes_unprocessed.keys())\n",
    "\n",
    "    for key in key_to_episodes_unprocessed.keys():\n",
    "        episode_idx = episode_information[key][\"episode_idx\"]\n",
    "        raw_episode_trials_data = key_to_episodes_unprocessed[key]\n",
    "\n",
    "        actions = jnp.asarray([datum[\"data\"][\"action_idx\"] for datum in raw_episode_trials_data])\n",
    "\n",
    "        # Compute reaction times (T)\n",
    "        reaction_times = [nicewebrl.compute_reaction_time(datum['data']) for datum in raw_episode_trials_data]\n",
    "        reaction_times = jnp.asarray(reaction_times)\n",
    "\n",
    "        # Compute episode data (T)\n",
    "        timesteps = [\n",
    "          deserialize_timestep(datum) for datum in raw_episode_trials_data\n",
    "        ]\n",
    "        timesteps = jax.tree_map(lambda *v: jnp.stack(v), *timesteps)\n",
    "\n",
    "        df_data.append(dict(\n",
    "            total_reward=timesteps.reward.sum(),\n",
    "            success=(timesteps.reward > .5).any(-1),  \n",
    "            reaction_times=str(reaction_times),\n",
    "            stage_type='interaction',\n",
    "            **user_data\n",
    "        ))\n",
    "            \n",
    "\n",
    "dataframe = pl.DataFrame(df_data)\n",
    "dataframe"
   ]
  },
  {
   "cell_type": "code",
   "execution_count": 21,
   "id": "b38e716b-7372-4741-919f-055c2199db32",
   "metadata": {},
   "outputs": [
    {
     "data": {
      "text/plain": [
       "{'How helpful was the AI?': 2, 'How human-like was the AI?': 4}"
      ]
     },
     "execution_count": 21,
     "metadata": {},
     "output_type": "execute_result"
    }
   ],
   "source": [
    "# len(data)\n",
    "data[-1]['data']"
   ]
  },
  {
   "cell_type": "code",
   "execution_count": 24,
   "id": "fa70a83d-69c1-4903-8fa5-46949cfdfe50",
   "metadata": {},
   "outputs": [
    {
     "data": {
      "text/plain": [
       "dict_keys(['image_seen_time', 'action_taken_time', 'computer_interaction', 'action_name', 'action_idx', 'timelimit', 'timestep'])"
      ]
     },
     "execution_count": 24,
     "metadata": {},
     "output_type": "execute_result"
    }
   ],
   "source": [
    "data[-2]['data'].keys()"
   ]
  },
  {
   "cell_type": "code",
   "execution_count": 11,
   "id": "acb05028-a49d-48e2-b008-444365d9e4ab",
   "metadata": {},
   "outputs": [
    {
     "data": {
      "text/plain": [
       "'Feedback'"
      ]
     },
     "execution_count": 11,
     "metadata": {},
     "output_type": "execute_result"
    }
   ],
   "source": [
    "data[-1]['name']"
   ]
  },
  {
   "cell_type": "code",
   "execution_count": 20,
   "id": "5a2bdfb9-c628-4f58-8314-c8f0eca949a9",
   "metadata": {},
   "outputs": [
    {
     "data": {
      "text/plain": [
       "dict_keys(['stage_idx', 'session_id', 'data', 'user_data', 'metadata', 'name', 'body'])"
      ]
     },
     "execution_count": 20,
     "metadata": {},
     "output_type": "execute_result"
    }
   ],
   "source": [
    "data[-2].keys()"
   ]
  },
  {
   "cell_type": "code",
   "execution_count": null,
   "id": "2a1ab249-85fe-4a15-82fc-e600910956eb",
   "metadata": {},
   "outputs": [],
   "source": []
  }
 ],
 "metadata": {
  "kernelspec": {
   "display_name": "Python 3 (ipykernel)",
   "language": "python",
   "name": "python3"
  },
  "language_info": {
   "codemirror_mode": {
    "name": "ipython",
    "version": 3
   },
   "file_extension": ".py",
   "mimetype": "text/x-python",
   "name": "python",
   "nbconvert_exporter": "python",
   "pygments_lexer": "ipython3",
   "version": "3.10.16"
  }
 },
 "nbformat": 4,
 "nbformat_minor": 5
}
